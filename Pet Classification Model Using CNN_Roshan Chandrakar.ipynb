{
 "cells": [
  {
   "cell_type": "markdown",
   "metadata": {},
   "source": [
    "# Deep Learning Project: Pet Classifier using CNN"
   ]
  },
  {
   "cell_type": "markdown",
   "metadata": {},
   "source": [
    "### Import modules"
   ]
  },
  {
   "cell_type": "code",
   "execution_count": 1,
   "metadata": {},
   "outputs": [],
   "source": [
    "from __future__ import absolute_import\n",
    "from __future__ import division\n",
    "from __future__ import print_function\n",
    "import os\n",
    "import cv2\n",
    "import glob\n",
    "import matplotlib.pyplot as plt\n",
    "import numpy as np\n",
    "import tensorflow as tf\n",
    "import random\n",
    "import sys\n",
    "\n",
    "# To support both python 2 and python 3\n",
    "from __future__ import division, print_function, unicode_literals\n",
    "\n",
    "# to make this notebook's output stable across runs\n",
    "def reset_graph(seed=42):\n",
    "    tf.reset_default_graph()\n",
    "    tf.set_random_seed(seed)\n",
    "    np.random.seed(seed)"
   ]
  },
  {
   "cell_type": "markdown",
   "metadata": {},
   "source": [
    "### Set hyper parameters\n",
    "- Run the program with three num_steps : 100,200,300"
   ]
  },
  {
   "cell_type": "code",
   "execution_count": 2,
   "metadata": {},
   "outputs": [],
   "source": [
    "reset_graph()\n",
    "\n",
    "img_size = 32\n",
    "num_channels = 3\n",
    "img_size_flat = img_size * img_size * num_channels\n",
    "img_shape = (img_size, img_size)\n",
    "trainpath='./data/train'\n",
    "testpath='./data/test'\n",
    "labels = {'cats': 0, 'dogs': 1}\n",
    "fc_size=32 #size of the output of final FC layer\n",
    "num_steps=300 #Try 100, 200, 300. number of steps that training data should be looped. Usually 20K\n",
    "tf.logging.set_verbosity(tf.logging.INFO)"
   ]
  },
  {
   "cell_type": "markdown",
   "metadata": {},
   "source": [
    "### Read the image dataset"
   ]
  },
  {
   "cell_type": "code",
   "execution_count": 3,
   "metadata": {},
   "outputs": [
    {
     "name": "stdout",
     "output_type": "stream",
     "text": [
      "length of train image set 40\n",
      "X_data shape: (40, 32, 32, 3)\n",
      "y_data shape: (40,)\n"
     ]
    },
    {
     "data": {
      "image/png": "[encoded data removed]",
      "text/plain": [
       "<Figure size 432x288 with 1 Axes>"
      ]
     },
     "metadata": {
      "needs_background": "light"
     },
     "output_type": "display_data"
    }
   ],
   "source": [
    "def read_images_classes(basepath,imgSize=img_size):\n",
    "    image_stack = []\n",
    "    label_stack = []\n",
    "\n",
    "    for counter, l in enumerate(labels):\n",
    "        path = os.path.join(basepath, l,'*g')\n",
    "        for img in glob.glob(path):\n",
    "            one_hot_vector =np.zeros(len(labels),dtype=np.int16)\n",
    "            one_hot_vector[counter]=1\n",
    "            image = cv2.imread(img)\n",
    "            im_resize = cv2.resize(image,img_shape, interpolation=cv2.INTER_CUBIC)\n",
    "            image_stack.append(im_resize)\n",
    "            label_stack.append(labels[l])            \n",
    "    return np.array(image_stack), np.array(label_stack)\n",
    "\n",
    "X_train, y_train=read_images_classes(trainpath)\n",
    "X_test, y_test=read_images_classes(testpath)\n",
    "\n",
    "#test a sample image\n",
    "print('length of train image set',len(X_train))\n",
    "print('X_data shape:', X_train.shape)\n",
    "print('y_data shape:', y_train.shape)\n",
    "\n",
    "fig1 = plt.figure() \n",
    "ax1 = fig1.add_subplot(2,2,1) \n",
    "img = cv2.resize(X_train[0],(64,64), interpolation=cv2.INTER_CUBIC)\n",
    "ax1.imshow(cv2.cvtColor(img, cv2.COLOR_BGR2RGB))\n",
    "plt.title(y_train[0])\n",
    "plt.show()"
   ]
  },
  {
   "cell_type": "markdown",
   "metadata": {},
   "source": [
    "### Assignment: Define the tensorflow model\n",
    "\n",
    "The model should have the following layers\n",
    "- input later\n",
    "- conv layer 1 with 32 filters of kernel  size[5,5],\n",
    "- pooling layer 1 with pool size[2,2] and stride 2\n",
    "- conv layer 2 with 64 filters of kernel  size[5,5],\n",
    "- pooling layer 2 with pool size[2,2] and stride 2\n",
    "- dense layer whose output size is fixed in the hyper parameter: fc_size=32\n",
    "- drop out layer with droput probability 0.4\n",
    "- predict the class by doing a softmax on the output of the dropout layers\n",
    "\n",
    "Training\n",
    "- For training fefine the loss function and minimize it\n",
    "- For evaluation calculate the accuracy\n",
    "\n"
   ]
  },
  {
   "cell_type": "markdown",
   "metadata": {},
   "source": [
    "### The cnn_model_fn has to be defined here"
   ]
  },
  {
   "cell_type": "code",
   "execution_count": 4,
   "metadata": {},
   "outputs": [],
   "source": [
    "def cnn_model_fn(features, labels, mode):\n",
    "\n",
    "    # Input layer \n",
    "    input_layer = tf.reshape(features[\"x\"], [-1, img_size, img_size, num_channels])\n",
    "    # Convolution layer 1\n",
    "    conv_layer_1 = tf.layers.conv2d( inputs= input_layer, filters = 32, kernel_size = [ 5, 5 ], padding =\"same\", activation = tf.nn.relu)\n",
    "    \n",
    "    # Pooling layer 1 \n",
    "    pool_layer_1 = tf.layers.max_pooling2d(inputs=conv_layer_1, pool_size = [ 2, 2 ] ,strides = 2)\n",
    "    \n",
    "    # Convolution layer 2 \n",
    "    \n",
    "    conv_layer_2 = tf.layers.conv2d( inputs= pool_layer_1, filters = 64, kernel_size = [ 5, 5 ], padding =\"same\", activation = tf.nn.relu)\n",
    "    \n",
    "    # Pooling Layer 2 \n",
    "    \n",
    "    pool_layer_2 = tf.layers.max_pooling2d(inputs = conv_layer_2, pool_size = [2,2], strides = 2)\n",
    "    # Flatten the pooling layer  to pass it to the dense layer \n",
    "    pool_layer_2_flat = tf.reshape(pool_layer_2, [ -1, 8 * 8 * 64 ])\n",
    "    # Fully connected layer\n",
    "    dense = tf.layers.dense(inputs= pool_layer_2_flat, units = fc_size, activation = tf.nn.relu)\n",
    "    # Droput layer with drouput probablity 0.4\n",
    "    dropout = tf.layers.dropout(inputs=dense, rate= 0.4 , training=mode == tf.estimator.ModeKeys.TRAIN)\n",
    "    # Logits Layer\n",
    "    logits = tf.layers.dense(inputs=dropout, units = 2 )\n",
    "    # Configure the predict mode \n",
    "    predictions = {\n",
    "        \"classes\": tf.argmax(input= logits, axis = 1 ),\n",
    "        \"probabilities\": tf.nn.softmax(logits, name = \"softmax_tensor\")\n",
    "    }\n",
    "    if mode == tf.estimator.ModeKeys.PREDICT:\n",
    "        return tf.estimator.EstimatorSpec(mode=mode, predictions=predictions)\n",
    "    \n",
    "    \n",
    "    # Calculate loss for both train and Eval modes\n",
    "    onehot_labels = tf.one_hot(indices = tf.cast(labels, tf.int32), depth = 2 )\n",
    "    loss = tf.losses.softmax_cross_entropy(onehot_labels=onehot_labels, logits = logits)\n",
    "    # Configue operations for training mode\n",
    "    if mode == tf.estimator.ModeKeys.TRAIN:\n",
    "        optimizer = tf.train.GradientDescentOptimizer(learning_rate=0.01)\n",
    "        train_op = optimizer.minimize(loss=loss, global_step=tf.train.get_global_step())\n",
    "        return tf.estimator.EstimatorSpec(mode=mode, loss=loss, train_op= train_op)\n",
    "    \n",
    "    eval_metric_ops = {\"accuracy\": tf.metrics.accuracy(labels=labels, predictions=predictions[\"classes\"])}\n",
    "    return tf.estimator.EstimatorSpec(mode= mode , loss = loss , eval_metric_ops = eval_metric_ops)"
   ]
  },
  {
   "cell_type": "markdown",
   "metadata": {},
   "source": [
    "### Run the tensorflow model\n",
    "\n",
    "This section will use the model and run the training and evaluation step"
   ]
  },
  {
   "cell_type": "code",
   "execution_count": 5,
   "metadata": {},
   "outputs": [
    {
     "name": "stderr",
     "output_type": "stream",
     "text": [
      "WARNING: Logging before flag parsing goes to stderr.\n",
      "I1117 22:00:59.684012 139909909579136 estimator.py:1790] Using default config.\n",
      "I1117 22:00:59.687340 139909909579136 estimator.py:209] Using config: {'_save_checkpoints_secs': 600, '_num_ps_replicas': 0, '_keep_checkpoint_max': 5, '_task_type': 'worker', '_global_id_in_cluster': 0, '_is_chief': True, '_cluster_spec': <tensorflow.python.training.server_lib.ClusterSpec object at 0x7f3ef9dfb8d0>, '_model_dir': u'/tmp/pets_convnet_model', '_protocol': None, '_save_checkpoints_steps': None, '_keep_checkpoint_every_n_hours': 10000, '_service': None, '_session_config': allow_soft_placement: true\n",
      "graph_options {\n",
      "  rewrite_options {\n",
      "    meta_optimizer_iterations: ONE\n",
      "  }\n",
      "}\n",
      ", '_tf_random_seed': None, '_save_summary_steps': 100, '_device_fn': None, '_experimental_distribute': None, '_num_worker_replicas': 1, '_task_id': 0, '_log_step_count_steps': 100, '_experimental_max_worker_delay_secs': None, '_evaluation_master': '', '_eval_distribute': None, '_train_distribute': None, '_master': ''}\n",
      "W1117 22:00:59.719557 139909909579136 deprecation.py:323] From /home/nissim/.local/lib/python2.7/site-packages/tensorflow/python/training/training_util.py:236: initialized_value (from tensorflow.python.ops.variables) is deprecated and will be removed in a future version.\n",
      "Instructions for updating:\n",
      "Use Variable.read_value. Variables in 2.X are initialized automatically both in eager and graph (inside tf.defun) contexts.\n",
      "W1117 22:00:59.802162 139909909579136 deprecation.py:323] From /home/nissim/.local/lib/python2.7/site-packages/tensorflow_estimator/python/estimator/inputs/queues/feeding_queue_runner.py:62: __init__ (from tensorflow.python.training.queue_runner_impl) is deprecated and will be removed in a future version.\n",
      "Instructions for updating:\n",
      "To construct input pipelines, use the `tf.data` module.\n",
      "W1117 22:00:59.808826 139909909579136 deprecation.py:323] From /home/nissim/.local/lib/python2.7/site-packages/tensorflow_estimator/python/estimator/inputs/queues/feeding_functions.py:500: add_queue_runner (from tensorflow.python.training.queue_runner_impl) is deprecated and will be removed in a future version.\n",
      "Instructions for updating:\n",
      "To construct input pipelines, use the `tf.data` module.\n",
      "I1117 22:00:59.842084 139909909579136 estimator.py:1145] Calling model_fn.\n",
      "W1117 22:00:59.852633 139909909579136 deprecation.py:323] From <ipython-input-4-c8793109dc20>:6: conv2d (from tensorflow.python.layers.convolutional) is deprecated and will be removed in a future version.\n",
      "Instructions for updating:\n",
      "Use `tf.keras.layers.Conv2D` instead.\n",
      "W1117 22:00:59.864917 139909909579136 deprecation.py:506] From /home/nissim/.local/lib/python2.7/site-packages/tensorflow/python/ops/init_ops.py:1251: calling __init__ (from tensorflow.python.ops.init_ops) with dtype is deprecated and will be removed in a future version.\n",
      "Instructions for updating:\n",
      "Call initializer instance with the dtype argument instead of passing it to the constructor\n",
      "W1117 22:01:00.687974 139909909579136 deprecation.py:323] From <ipython-input-4-c8793109dc20>:9: max_pooling2d (from tensorflow.python.layers.pooling) is deprecated and will be removed in a future version.\n",
      "Instructions for updating:\n",
      "Use keras.layers.MaxPooling2D instead.\n",
      "W1117 22:01:01.225614 139909909579136 deprecation.py:323] From <ipython-input-4-c8793109dc20>:21: dense (from tensorflow.python.layers.core) is deprecated and will be removed in a future version.\n",
      "Instructions for updating:\n",
      "Use keras.layers.dense instead.\n",
      "W1117 22:01:02.403671 139909909579136 deprecation.py:323] From <ipython-input-4-c8793109dc20>:23: dropout (from tensorflow.python.layers.core) is deprecated and will be removed in a future version.\n",
      "Instructions for updating:\n",
      "Use keras.layers.dropout instead.\n",
      "W1117 22:01:03.018462 139909909579136 deprecation.py:323] From /home/nissim/.local/lib/python2.7/site-packages/tensorflow/python/ops/losses/losses_impl.py:121: where (from tensorflow.python.ops.array_ops) is deprecated and will be removed in a future version.\n",
      "Instructions for updating:\n",
      "Use tf.where in 2.0, which has the same broadcast rule as np.where\n",
      "I1117 22:01:03.441004 139909909579136 estimator.py:1147] Done calling model_fn.\n",
      "I1117 22:01:03.454813 139909909579136 basic_session_run_hooks.py:541] Create CheckpointSaverHook.\n",
      "I1117 22:01:03.936817 139909909579136 monitored_session.py:240] Graph was finalized.\n",
      "I1117 22:01:04.730257 139909909579136 session_manager.py:500] Running local_init_op.\n",
      "I1117 22:01:04.751559 139909909579136 session_manager.py:502] Done running local_init_op.\n",
      "W1117 22:01:04.851727 139909909579136 deprecation.py:323] From /home/nissim/.local/lib/python2.7/site-packages/tensorflow/python/training/monitored_session.py:875: start_queue_runners (from tensorflow.python.training.queue_runner_impl) is deprecated and will be removed in a future version.\n",
      "Instructions for updating:\n",
      "To construct input pipelines, use the `tf.data` module.\n",
      "I1117 22:01:06.630532 139909909579136 basic_session_run_hooks.py:606] Saving checkpoints for 0 into /tmp/pets_convnet_model/model.ckpt.\n",
      "I1117 22:01:07.788728 139909909579136 basic_session_run_hooks.py:262] probabilities = [[0.4747368  0.5252632 ]\n",
      " [0.50426716 0.4957329 ]\n",
      " [0.463349   0.53665096]\n",
      " [0.48011824 0.5198817 ]\n",
      " [0.5070467  0.49295327]\n",
      " [0.49579087 0.5042092 ]\n",
      " [0.4819065  0.51809347]\n",
      " [0.4743901  0.5256099 ]\n",
      " [0.49726236 0.50273764]\n",
      " [0.4275454  0.57245463]]\n",
      "I1117 22:01:07.791668 139909909579136 basic_session_run_hooks.py:262] loss = 0.6532124, step = 1\n",
      "I1117 22:01:10.811902 139909909579136 basic_session_run_hooks.py:260] probabilities = [[0.5150367  0.48496327]\n",
      " [0.5476862  0.45231378]\n",
      " [0.497555   0.50244504]\n",
      " [0.50745237 0.49254766]\n",
      " [0.45955956 0.54044044]\n",
      " [0.51397765 0.48602235]\n",
      " [0.5229685  0.47703156]\n",
      " [0.5594035  0.44059646]\n",
      " [0.4670131  0.5329869 ]\n",
      " [0.5424181  0.4575819 ]] (3.023 sec)\n",
      "I1117 22:01:14.728138 139909909579136 basic_session_run_hooks.py:692] global_step/sec: 14.4068\n",
      "I1117 22:01:14.735146 139909909579136 basic_session_run_hooks.py:260] probabilities = [[0.48847494 0.51152515]\n",
      " [0.5439092  0.45609078]\n",
      " [0.49316514 0.50683486]\n",
      " [0.3799849  0.62001514]\n",
      " [0.46689668 0.5331033 ]\n",
      " [0.500621   0.49937892]\n",
      " [0.50275064 0.49724934]\n",
      " [0.50475854 0.4952415 ]\n",
      " [0.47798866 0.5220114 ]\n",
      " [0.5003912  0.49960878]] (3.923 sec)\n",
      "I1117 22:01:14.747652 139909909579136 basic_session_run_hooks.py:260] loss = 0.6779272, step = 101 (6.956 sec)\n",
      "I1117 22:01:18.222255 139909909579136 basic_session_run_hooks.py:260] probabilities = [[0.44779095 0.552209  ]\n",
      " [0.5093653  0.49063468]\n",
      " [0.59694505 0.40305495]\n",
      " [0.38727257 0.6127274 ]\n",
      " [0.3438153  0.6561847 ]\n",
      " [0.39342877 0.60657126]\n",
      " [0.4363628  0.56363714]\n",
      " [0.3809148  0.6190852 ]\n",
      " [0.4149193  0.58508074]\n",
      " [0.5986494  0.40135065]] (3.486 sec)\n",
      "I1117 22:01:22.456738 139909909579136 basic_session_run_hooks.py:692] global_step/sec: 12.9391\n",
      "I1117 22:01:22.465115 139909909579136 basic_session_run_hooks.py:260] probabilities = [[0.26006794 0.73993206]\n",
      " [0.3339059  0.6660941 ]\n",
      " [0.38249287 0.61750716]\n",
      " [0.5109828  0.48901713]\n",
      " [0.24690276 0.7530972 ]\n",
      " [0.27266762 0.72733235]\n",
      " [0.22263753 0.7773624 ]\n",
      " [0.56119674 0.4388033 ]\n",
      " [0.711186   0.28881398]\n",
      " [0.5652086  0.4347914 ]] (4.244 sec)\n",
      "I1117 22:01:22.467432 139909909579136 basic_session_run_hooks.py:260] loss = 0.4203852, step = 201 (7.720 sec)\n",
      "I1117 22:01:27.219420 139909909579136 basic_session_run_hooks.py:260] probabilities = [[0.88812935 0.11187068]\n",
      " [0.44251275 0.55748725]\n",
      " [0.56680244 0.43319753]\n",
      " [0.6122924  0.38770762]\n",
      " [0.39767376 0.6023263 ]\n",
      " [0.24681415 0.7531859 ]\n",
      " [0.45047393 0.5495261 ]\n",
      " [0.72581506 0.274185  ]\n",
      " [0.43063563 0.5693644 ]\n",
      " [0.21201962 0.78798044]] (4.753 sec)\n",
      "I1117 22:01:30.985730 139909909579136 basic_session_run_hooks.py:606] Saving checkpoints for 300 into /tmp/pets_convnet_model/model.ckpt.\n",
      "I1117 22:01:32.350152 139909909579136 estimator.py:368] Loss for final step: 0.51090336.\n",
      "I1117 22:01:32.527632 139909909579136 estimator.py:1145] Calling model_fn.\n",
      "I1117 22:01:33.209116 139909909579136 estimator.py:1147] Done calling model_fn.\n",
      "I1117 22:01:33.314570 139909909579136 evaluation.py:255] Starting evaluation at 2019-11-17T22:01:33Z\n",
      "I1117 22:01:33.714380 139909909579136 monitored_session.py:240] Graph was finalized.\n"
     ]
    },
    {
     "name": "stderr",
     "output_type": "stream",
     "text": [
      "W1117 22:01:33.726675 139909909579136 deprecation.py:323] From /home/nissim/.local/lib/python2.7/site-packages/tensorflow/python/training/saver.py:1276: checkpoint_exists (from tensorflow.python.training.checkpoint_management) is deprecated and will be removed in a future version.\n",
      "Instructions for updating:\n",
      "Use standard file APIs to check for files with this prefix.\n",
      "I1117 22:01:33.743100 139909909579136 saver.py:1280] Restoring parameters from /tmp/pets_convnet_model/model.ckpt-300\n",
      "I1117 22:01:33.920175 139909909579136 session_manager.py:500] Running local_init_op.\n",
      "I1117 22:01:33.997220 139909909579136 session_manager.py:502] Done running local_init_op.\n",
      "I1117 22:01:34.711697 139909909579136 evaluation.py:275] Finished evaluation at 2019-11-17-22:01:34\n",
      "I1117 22:01:34.732546 139909909579136 estimator.py:2039] Saving dict for global step 300: accuracy = 0.55, global_step = 300, loss = 0.7224401\n",
      "I1117 22:01:35.247659 139909909579136 estimator.py:2099] Saving 'checkpoint_path' summary for global step 300: /tmp/pets_convnet_model/model.ckpt-300\n"
     ]
    },
    {
     "name": "stdout",
     "output_type": "stream",
     "text": [
      "{'loss': 0.7224401, 'global_step': 300, u'accuracy': 0.55}\n"
     ]
    }
   ],
   "source": [
    "#X_train = np.array((X_train/255.0),dtype=np.float16)\n",
    "#X_test = np.array((X_test/255.0), dtype=np.float16)\n",
    "X_train = np.array((X_train/255.0),dtype=np.float32)\n",
    "X_test = np.array((X_test/255.0), dtype=np.float32)\n",
    "\n",
    "pets_classifier = tf.estimator.Estimator(model_fn=cnn_model_fn, model_dir=\"/tmp/pets_convnet_model\")\n",
    "#pets_classifier = tf.estimator.Estimator(model_fn=cnn_model_fn)\n",
    "tensors_to_log = {\"probabilities\": \"softmax_tensor\"}\n",
    "logging_hook = tf.train.LoggingTensorHook(tensors=tensors_to_log, every_n_iter=50)\n",
    "train_input_fn = tf.estimator.inputs.numpy_input_fn(x={\"x\": X_train}, y=y_train, batch_size=10,\n",
    "                                                      num_epochs=None, shuffle=True)\n",
    "pets_classifier.train(input_fn=train_input_fn, steps=num_steps, hooks=[logging_hook])\n",
    "eval_input_fn = tf.estimator.inputs.numpy_input_fn(x={\"x\": X_test}, y=y_test, num_epochs=1,shuffle=False)\n",
    "eval_results = pets_classifier.evaluate(input_fn=eval_input_fn)\n",
    "print(eval_results)"
   ]
  },
  {
   "cell_type": "code",
   "execution_count": null,
   "metadata": {
    "collapsed": true
   },
   "outputs": [],
   "source": []
  }
 ],
 "metadata": {
  "kernelspec": {
   "display_name": "Python 3",
   "language": "python",
   "name": "python3"
  },
  "language_info": {
   "codemirror_mode": {
    "name": "ipython",
    "version": 3
   },
   "file_extension": ".py",
   "mimetype": "text/x-python",
   "name": "python",
   "nbconvert_exporter": "python",
   "pygments_lexer": "ipython3",
   "version": "3.7.3"
  }
 },
 "nbformat": 4,
 "nbformat_minor": 2
}
